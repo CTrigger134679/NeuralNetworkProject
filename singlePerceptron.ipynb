{
 "cells": [
  {
   "cell_type": "code",
   "execution_count": 9,
   "metadata": {},
   "outputs": [],
   "source": [
    "import numpy as np\n",
    "import math\n",
    "class perceptron:\n",
    "    def __init__(self, weights:list, bias=0, output:bool=False) -> None:\n",
    "        self.bias = bias\n",
    "        self.weights = weights\n",
    "        self.output = output\n",
    "        self.activity = 0\n",
    "        self.activation = 0\n",
    "        self.d_weights = weights.copy() # shouldn't use before it gets set\n",
    "        self.d_bias = 0\n",
    "        self.delta = 0\n",
    "\n",
    "    def forward(self, x):\n",
    "        self.calculate_activity(x)\n",
    "        return self.calculate_activation()\n",
    "\n",
    "    def calculate_activity(self, inputs:list):\n",
    "        # A_j = sum(w_ij * x_i) + bias\n",
    "        total = self.bias\n",
    "        for x in range(len(inputs)):\n",
    "            total += inputs[x] * self.weights[x]\n",
    "        self.activity = total\n",
    "        return total\n",
    "    \n",
    "    def calculate_activation(self):\n",
    "        # y_j = f(A_j) -- using sigmoid\n",
    "        self.activation = 1 / (1 + math.exp(self.activity * -1))\n",
    "        return self.activation\n",
    "\n",
    "    def calculate_delta_w(self, x, eta, expected=None, dk_w=None):\n",
    "        # delta_w = eta * (d_k * x_j)\n",
    "        # d_k = e_k (1-y)y\n",
    "        if(self.output):\n",
    "            self.delta = (expected - self.activation) * (1-self.activation) * self.activation\n",
    "        else:\n",
    "            self.delta = (1 - self.activation) * self.activation * (dk_w)\n",
    "        for i in range(len(x)):\n",
    "            self.d_weights[i] = eta * self.delta * x[i]\n",
    "        self.d_bias = eta * self.delta\n",
    "        return self.delta, self.d_weights\n",
    "\n",
    "    def calculate_previous_d(self):\n",
    "        prevs = []\n",
    "        for weight in self.weights:\n",
    "            prevs.append(weight*self.delta)\n",
    "        return prevs\n",
    "\n",
    "    def update_weights(self, bias=True):\n",
    "        for i in range(len(self.weights)):\n",
    "            self.weights[i] = self.weights[i] + self.d_weights[i]\n",
    "        if bias: self.bias = self.bias + self.d_bias\n",
    "        return self.weights\n",
    "    \n",
    "    def compute_error(self, expected):\n",
    "        e = ((expected - self.activation) ** 2) / 2\n",
    "        return e\n",
    "    \n",
    "    def get_weights(self):\n",
    "        return self.weights, self.bias\n",
    "\n",
    "class layer:\n",
    "    pass"
   ]
  },
  {
   "cell_type": "code",
   "execution_count": 18,
   "metadata": {},
   "outputs": [
    {
     "name": "stdout",
     "output_type": "stream",
     "text": [
      "   Data item   LAC   SOW  TACA\n",
      "0          1  0.90  0.87     1\n",
      "1          2  1.81  1.02     0\n",
      "2          3  1.31  0.75     1\n",
      "3          4  2.36  1.60     0\n",
      "4          5  2.48  1.14     0\n",
      "   Data item   LAC   SOW  TACA\n",
      "0          1  0.90  0.87     1\n",
      "2          3  1.31  0.75     1\n",
      "4          5  2.48  1.14     0\n",
      "6          7  0.41  1.87     0\n",
      "8          9  2.45  0.52     0\n",
      "   Data item   LAC   SOW  TACA\n",
      "1          2  1.81  1.02     0\n",
      "3          4  2.36  1.60     0\n",
      "5          6  2.17  2.08     1\n",
      "7          8  2.85  2.91     1\n",
      "9         10  1.05  1.93     0\n"
     ]
    }
   ],
   "source": [
    "import pandas as pd\n",
    "from random import random\n",
    "\n",
    "# this makes is so even => odd and odd => even\n",
    "data = pd.read_csv(\"data.csv\")\n",
    "training_data = data.iloc[[x for x in range(0,19,2)]]   # items 1,3,5,...,19\n",
    "test_data = data.iloc[[x for x in range(1,20,2)]]       # items 2,4,6,...,20\n",
    "print(data.head())\n",
    "print(training_data.head())\n",
    "print(test_data.head())"
   ]
  },
  {
   "cell_type": "code",
   "execution_count": 33,
   "metadata": {},
   "outputs": [
    {
     "name": "stdout",
     "output_type": "stream",
     "text": [
      "Initial weights: 0.584521260991633, 0.250404117820919\n",
      "Initial Bias: 0.9227300577635602\n",
      "Final weights: -1.4256705344109666, -2.2122155165265287\n",
      "Final bias: 3.526374023734068\n"
     ]
    }
   ],
   "source": [
    "\n",
    "\n",
    "cycles = 30\n",
    "eta = 1         # TODO: This is something we may need to adjust\n",
    "# initial weights\n",
    "w0 = random()\n",
    "w1 = random()\n",
    "bias = random()\n",
    "print(f\"Initial weights: {w0}, {w1}\")\n",
    "print(f\"Initial Bias: {bias}\")\n",
    "node1 = perceptron([w0,w1], bias, output=True)\n",
    "\n",
    "for i in range(cycles):\n",
    "    for index in range(len(training_data)):\n",
    "        entry = training_data.iloc[index]\n",
    "        input = [entry[\"LAC\"], entry[\"SOW\"]]\n",
    "        expected = entry[\"TACA\"]\n",
    "        node1.forward(input)\n",
    "        node1.calculate_delta_w(input, eta, expected)\n",
    "        node1.update_weights()\n",
    "\n",
    "w, b = node1.get_weights()\n",
    "print(f\"Final weights: {w[0]}, {w[1]}\")\n",
    "print(f\"Final bias: {b}\")"
   ]
  },
  {
   "cell_type": "code",
   "execution_count": 39,
   "metadata": {},
   "outputs": [
    {
     "name": "stdout",
     "output_type": "stream",
     "text": [
      "--On Test Data--\n",
      "Item 2.0: Expected 0.0, Got 0.21239491236646874\n",
      "Item 4.0: Expected 0.0, Got 0.03299801104745289\n",
      "Item 6.0: Expected 1.0, Got 0.015236024900838151\n",
      "Item 8.0: Expected 1.0, Got 0.0009347146109868435\n",
      "Item 10.0: Expected 0.0, Got 0.09620197846542895\n",
      "Item 12.0: Expected 0.0, Got 0.026382580778549863\n",
      "Item 14.0: Expected 0.0, Got 0.11677040813888048\n",
      "Item 16.0: Expected 0.0, Got 0.03274853650687845\n",
      "Item 18.0: Expected 1.0, Got 0.8258524586498035\n",
      "Item 20.0: Expected 0.0, Got 0.032732291853014565\n",
      "--On Training Data--\n",
      "Item 1.0: Expected 1.0, Got 0.5789935158739989\n",
      "Item 3.0: Expected 1.0, Got 0.49989599656670125\n",
      "Item 5.0: Expected 0.0, Got 0.07369868698037109\n",
      "Item 7.0: Expected 0.0, Got 0.23236696873735388\n",
      "Item 9.0: Expected 0.0, Got 0.24659216916798257\n",
      "Item 11.0: Expected 1.0, Got 0.0012729948263866388\n",
      "Item 13.0: Expected 1.0, Got 0.9618553179438472\n",
      "Item 15.0: Expected 0.0, Got 0.06347955341271284\n",
      "Item 17.0: Expected 1.0, Got 0.8075378546196754\n",
      "Item 19.0: Expected 0.0, Got 0.020682950984231577\n"
     ]
    }
   ],
   "source": [
    "print(\"--On Test Data--\")\n",
    "for index in range(len(test_data)):\n",
    "    entry = test_data.iloc[index]\n",
    "    input = [entry[\"LAC\"], entry[\"SOW\"]]\n",
    "    expected = entry[\"TACA\"]\n",
    "    output = node1.forward(input)\n",
    "    print(f\"Item {entry['Data item']}: Expected {expected}, Got {output}\")\n",
    "print(\"--On Training Data--\")\n",
    "for index in range(len(training_data)):\n",
    "    entry = training_data.iloc[index]\n",
    "    input = [entry[\"LAC\"], entry[\"SOW\"]]\n",
    "    expected = entry[\"TACA\"]\n",
    "    output = node1.forward(input)\n",
    "    print(f\"Item {entry['Data item']}: Expected {expected}, Got {output}\")"
   ]
  }
 ],
 "metadata": {
  "kernelspec": {
   "display_name": "venv",
   "language": "python",
   "name": "python3"
  },
  "language_info": {
   "codemirror_mode": {
    "name": "ipython",
    "version": 3
   },
   "file_extension": ".py",
   "mimetype": "text/x-python",
   "name": "python",
   "nbconvert_exporter": "python",
   "pygments_lexer": "ipython3",
   "version": "3.10.11"
  }
 },
 "nbformat": 4,
 "nbformat_minor": 2
}
